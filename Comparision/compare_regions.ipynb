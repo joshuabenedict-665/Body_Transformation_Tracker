{
  "nbformat": 4,
  "nbformat_minor": 0,
  "metadata": {
    "colab": {
      "provenance": []
    },
    "kernelspec": {
      "name": "python3",
      "display_name": "Python 3"
    },
    "language_info": {
      "name": "python"
    }
  },
  "cells": [
    {
      "cell_type": "code",
      "execution_count": 2,
      "metadata": {
        "id": "8I0ywYmfo8iw",
        "colab": {
          "base_uri": "https://localhost:8080/"
        },
        "outputId": "38d845d8-ae9e-47eb-f711-e9e8b13201e2"
      },
      "outputs": [
        {
          "output_type": "stream",
          "name": "stdout",
          "text": [
            "❌ One or both images not found:\n",
            "a.png\n",
            "b.png\n"
          ]
        }
      ],
      "source": [
        "import cv2\n",
        "import numpy as np\n",
        "\n",
        "# ---------- STEP 1: Compute Absolute Difference ----------\n",
        "def compute_absdiff(img1, img2):\n",
        "    gray1 = cv2.cvtColor(img1, cv2.COLOR_BGR2GRAY)\n",
        "    gray2 = cv2.cvtColor(img2, cv2.COLOR_BGR2GRAY)\n",
        "    diff = cv2.absdiff(gray1, gray2)\n",
        "    _, thresh = cv2.threshold(diff, 30, 255, cv2.THRESH_BINARY)\n",
        "    return thresh\n",
        "\n",
        "# ---------- STEP 2: Get Contours of Changed Areas ----------\n",
        "def get_contours(diff_img):\n",
        "    contours, _ = cv2.findContours(diff_img, cv2.RETR_EXTERNAL, cv2.CHAIN_APPROX_SIMPLE)\n",
        "    return contours\n",
        "\n",
        "# ---------- STEP 3: Draw Highlighted Differences ----------\n",
        "def draw_highlighted_differences(original_img, contours):\n",
        "    overlay = np.zeros_like(original_img)\n",
        "    cv2.drawContours(overlay, contours, -1, (0, 255, 0), thickness=cv2.FILLED)  # Filled green\n",
        "    alpha = 0.4\n",
        "    highlighted = cv2.addWeighted(overlay, alpha, original_img, 1 - alpha, 0)\n",
        "    return highlighted\n",
        "\n",
        "# ---------- STEP 4: Full Pipeline ----------\n",
        "def visualize_image_difference(img1_path, img2_path):\n",
        "    img1 = cv2.imread(img1_path)\n",
        "    img2 = cv2.imread(img2_path)\n",
        "\n",
        "    if img1 is None or img2 is None:\n",
        "        print(f\"❌ One or both images not found:\\n{img1_path}\\n{img2_path}\")\n",
        "        return\n",
        "\n",
        "    if img1.shape != img2.shape:\n",
        "        print(\"ℹ️ Resizing image2 to match image1...\")\n",
        "        img2 = cv2.resize(img2, (img1.shape[1], img1.shape[0]))\n",
        "\n",
        "    diff_thresh = compute_absdiff(img1, img2)\n",
        "    contours = get_contours(diff_thresh)\n",
        "    result_img = draw_highlighted_differences(img2, contours)\n",
        "\n",
        "    # Display\n",
        "    cv2.imshow(\"Image 1 (Reference)\", img1)\n",
        "    cv2.imshow(\"Image 2 (Compared)\", img2)\n",
        "    cv2.imshow(\"Difference Threshold\", diff_thresh)\n",
        "    cv2.imshow(\"Green Highlighted Differences\", result_img)\n",
        "    cv2.waitKey(0)\n",
        "    cv2.destroyAllWindows()\n",
        "\n",
        "# ---------- STEP 5: Run without choosing files ----------\n",
        "image1_path = \"a.png\"  # Path to first image\n",
        "image2_path = \"b.png\"  # Path to second image\n",
        "\n",
        "visualize_image_difference(image1_path, image2_path)\n"
      ]
    },
    {
      "cell_type": "code",
      "source": [],
      "metadata": {
        "id": "mWNhiUgNwtr4"
      },
      "execution_count": null,
      "outputs": []
    }
  ]
}