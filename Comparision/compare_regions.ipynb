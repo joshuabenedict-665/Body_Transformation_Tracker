{
  "nbformat": 4,
  "nbformat_minor": 0,
  "metadata": {
    "colab": {
      "provenance": []
    },
    "kernelspec": {
      "name": "python3",
      "display_name": "Python 3"
    },
    "language_info": {
      "name": "python"
    }
  },
  "cells": [
    {
      "cell_type": "code",
      "execution_count": 2,
      "metadata": {
        "id": "8I0ywYmfo8iw"
      },
      "outputs": [],
      "source": [
        "import cv2\n",
        "import numpy as np\n",
        "\n",
        "def compute_absdiff(img1, img2, threshold=30):\n",
        "    gray1 = cv2.cvtColor(img1, cv2.COLOR_BGR2GRAY)\n",
        "    gray2 = cv2.cvtColor(img2, cv2.COLOR_BGR2GRAY)\n",
        "    diff = cv2.absdiff(gray1, gray2)\n",
        "    _, thresh = cv2.threshold(diff, threshold, 255, cv2.THRESH_BINARY)\n",
        "    kernel = np.ones((3,3), np.uint8)\n",
        "    thresh = cv2.morphologyEx(thresh, cv2.MORPH_OPEN, kernel, iterations=2)\n",
        "    return thresh\n",
        "\n",
        "def get_contours(diff_img):\n",
        "    contours, _ = cv2.findContours(diff_img, cv2.RETR_EXTERNAL, cv2.CHAIN_APPROX_SIMPLE)\n",
        "    return contours\n",
        "\n",
        "def draw_highlighted_differences(original_img, contours):\n",
        "    highlighted = original_img.copy()\n",
        "    overlay = original_img.copy()\n",
        "    cv2.drawContours(overlay, contours, -1, (0, 255, 0), cv2.FILLED)\n",
        "    cv2.addWeighted(overlay, 0.4, highlighted, 0.6, 0, highlighted)\n",
        "    return highlighted\n",
        "\n",
        "def visualize_image_difference(img1, img2, threshold=30):\n",
        "    diff_thresh = compute_absdiff(img1, img2, threshold)\n",
        "    contours = get_contours(diff_thresh)\n",
        "    result_img = draw_highlighted_differences(img2, contours)\n",
        "    return result_img\n"
      ]
    },
    {
      "cell_type": "code",
      "source": [],
      "metadata": {
        "id": "mWNhiUgNwtr4"
      },
      "execution_count": null,
      "outputs": []
    }
  ]
}